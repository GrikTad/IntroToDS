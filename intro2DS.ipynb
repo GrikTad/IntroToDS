{
 "cells": [
  {
   "cell_type": "code",
   "execution_count": 95,
   "id": "09ff8a8a",
   "metadata": {},
   "outputs": [],
   "source": [
    "from tkinter.filedialog import askopenfilename\n",
    "import pandas as pd\n",
    "import docx\n",
    "from docx import Document\n",
    "import numpy as np\n",
    "import re\n",
    "from sklearn.preprocessing import LabelEncoder"
   ]
  },
  {
   "cell_type": "code",
   "execution_count": 167,
   "id": "83796eec",
   "metadata": {},
   "outputs": [],
   "source": [
    "df = pd.read_csv(\"vehicles_2.csv\")"
   ]
  },
  {
   "cell_type": "code",
   "execution_count": 8,
   "id": "14821597",
   "metadata": {},
   "outputs": [
    {
     "name": "stdout",
     "output_type": "stream",
     "text": [
      "<class 'pandas.core.frame.DataFrame'>\n",
      "RangeIndex: 5000 entries, 0 to 4999\n",
      "Data columns (total 27 columns):\n",
      " #   Column        Non-Null Count  Dtype  \n",
      "---  ------        --------------  -----  \n",
      " 0   Unnamed: 0    5000 non-null   int64  \n",
      " 1   id            5000 non-null   int64  \n",
      " 2   url           5000 non-null   object \n",
      " 3   region        5000 non-null   object \n",
      " 4   region_url    5000 non-null   object \n",
      " 5   price         5000 non-null   int64  \n",
      " 6   year          4914 non-null   float64\n",
      " 7   manufacturer  4681 non-null   object \n",
      " 8   model         4928 non-null   object \n",
      " 9   condition     2951 non-null   object \n",
      " 10  cylinders     3136 non-null   object \n",
      " 11  fuel          4893 non-null   object \n",
      " 12  odometer      4961 non-null   float64\n",
      " 13  title_status  4820 non-null   object \n",
      " 14  transmission  4970 non-null   object \n",
      " 15  VIN           3168 non-null   object \n",
      " 16  drive         3261 non-null   object \n",
      " 17  size          1351 non-null   object \n",
      " 18  type          3762 non-null   object \n",
      " 19  paint_color   3933 non-null   object \n",
      " 20  image_url     4973 non-null   object \n",
      " 21  description   4973 non-null   object \n",
      " 22  county        0 non-null      float64\n",
      " 23  state         5000 non-null   object \n",
      " 24  lat           4933 non-null   float64\n",
      " 25  long          4933 non-null   float64\n",
      " 26  posting_date  4973 non-null   object \n",
      "dtypes: float64(5), int64(3), object(19)\n",
      "memory usage: 1.0+ MB\n"
     ]
    }
   ],
   "source": [
    "df.info()"
   ]
  },
  {
   "cell_type": "code",
   "execution_count": 168,
   "id": "30020889",
   "metadata": {},
   "outputs": [],
   "source": [
    "#droping columns\n",
    "df=df.drop([\"region_url\",\"VIN\",\"size\",\"image_url\",\"description\",\"county\",\"lat\",\"long\",\"posting_date\"],axis=1)"
   ]
  },
  {
   "cell_type": "code",
   "execution_count": 169,
   "id": "97c8050c",
   "metadata": {},
   "outputs": [],
   "source": [
    "#one hot encoding\n",
    "df=pd.get_dummies(df, columns = [\"region\",\"manufacturer\",\"fuel\",\"transmission\",\"drive\",\"type\",\"paint_color\",\"state\"])"
   ]
  },
  {
   "cell_type": "code",
   "execution_count": 61,
   "id": "c5e0303b",
   "metadata": {
    "scrolled": false
   },
   "outputs": [
    {
     "data": {
      "text/plain": [
       "Index(['id', 'url', 'price', 'year', 'model', 'condition', 'cylinders',\n",
       "       'odometer', 'title_status', 'region_anchorage / mat-su',\n",
       "       'region_auburn', 'region_bellingham', 'region_birmingham',\n",
       "       'region_dothan', 'region_el paso', 'region_erie', 'region_fayetteville',\n",
       "       'region_florence / muscle shoals', 'region_florida keys',\n",
       "       'region_gadsden-anniston', 'region_greensboro', 'region_hudson valley',\n",
       "       'region_huntsville / decatur', 'region_la crosse',\n",
       "       'region_medford-ashland', 'region_mobile', 'region_montgomery',\n",
       "       'region_prescott', 'region_skagit / island / SJI'],\n",
       "      dtype='object')"
      ]
     },
     "execution_count": 61,
     "metadata": {},
     "output_type": "execute_result"
    }
   ],
   "source": [
    "def sp(x):\n",
    "            try:\n",
    "                return  x.split()[0]\n",
    "            except: \n",
    "                print(None)\n",
    "    \n",
    "df[\"cylinders\"]=df[\"cylinders\"].apply(sp)"
   ]
  },
  {
   "cell_type": "code",
   "execution_count": 171,
   "id": "162a3e49",
   "metadata": {},
   "outputs": [],
   "source": [
    "le=LabelEncoder()"
   ]
  },
  {
   "cell_type": "code",
   "execution_count": 170,
   "id": "ce96d787",
   "metadata": {},
   "outputs": [
    {
     "data": {
      "text/plain": [
       "{'excellent', 'fair', 'good', 'like new', nan, 'new', 'salvage'}"
      ]
     },
     "execution_count": 170,
     "metadata": {},
     "output_type": "execute_result"
    }
   ],
   "source": [
    "set(df[\"condition\"])"
   ]
  },
  {
   "cell_type": "code",
   "execution_count": 172,
   "id": "6cf4eafa",
   "metadata": {},
   "outputs": [
    {
     "ename": "TypeError",
     "evalue": "fit() missing 1 required positional argument: 'y'",
     "output_type": "error",
     "traceback": [
      "\u001b[1;31m---------------------------------------------------------------------------\u001b[0m",
      "\u001b[1;31mTypeError\u001b[0m                                 Traceback (most recent call last)",
      "\u001b[1;32mC:\\Users\\HRACHY~1.KHL\\AppData\\Local\\Temp/ipykernel_1272/1085252630.py\u001b[0m in \u001b[0;36m<module>\u001b[1;34m\u001b[0m\n\u001b[1;32m----> 1\u001b[1;33m \u001b[0mle\u001b[0m\u001b[1;33m.\u001b[0m\u001b[0mfit\u001b[0m\u001b[1;33m(\u001b[0m\u001b[1;33m)\u001b[0m\u001b[1;33m\u001b[0m\u001b[1;33m\u001b[0m\u001b[0m\n\u001b[0m",
      "\u001b[1;31mTypeError\u001b[0m: fit() missing 1 required positional argument: 'y'"
     ]
    }
   ],
   "source": [
    "le.fit()"
   ]
  },
  {
   "cell_type": "code",
   "execution_count": 102,
   "id": "79d84fb7",
   "metadata": {},
   "outputs": [],
   "source": [
    "df1[\"condition\"]=le.fit_transform(df1[\"condition\"])"
   ]
  },
  {
   "cell_type": "code",
   "execution_count": 166,
   "id": "5fe84c1d",
   "metadata": {},
   "outputs": [
    {
     "data": {
      "text/plain": [
       "array([6, 2, 0, 1, 3, 4, 5])"
      ]
     },
     "execution_count": 166,
     "metadata": {},
     "output_type": "execute_result"
    }
   ],
   "source": [
    "df1[\"condition\"].unique()"
   ]
  },
  {
   "cell_type": "code",
   "execution_count": 147,
   "id": "badcdedc",
   "metadata": {
    "scrolled": true
   },
   "outputs": [],
   "source": [
    "def sp(x):\n",
    "            try:\n",
    "                return  x.split()[0]\n",
    "            except: \n",
    "                print(None)\n",
    "    \n",
    "df[\"cylinders\"]=df[\"cylinders\"].apply(sp)"
   ]
  }
 ],
 "metadata": {
  "kernelspec": {
   "display_name": "Python 3 (ipykernel)",
   "language": "python",
   "name": "python3"
  },
  "language_info": {
   "codemirror_mode": {
    "name": "ipython",
    "version": 3
   },
   "file_extension": ".py",
   "mimetype": "text/x-python",
   "name": "python",
   "nbconvert_exporter": "python",
   "pygments_lexer": "ipython3",
   "version": "3.9.7"
  }
 },
 "nbformat": 4,
 "nbformat_minor": 5
}
